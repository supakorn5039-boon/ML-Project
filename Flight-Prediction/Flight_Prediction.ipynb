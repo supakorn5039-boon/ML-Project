{
 "cells": [
  {
   "cell_type": "code",
   "id": "initial_id",
   "metadata": {
    "collapsed": true,
    "ExecuteTime": {
     "end_time": "2024-08-22T13:33:31.151743Z",
     "start_time": "2024-08-22T13:33:30.880733Z"
    }
   },
   "source": [
    "import pandas as pd\n",
    "from keras.src.metrics import MeanAbsoluteError, MeanSquaredError\n",
    "\n",
    "df = pd.read_csv('Clean_Dataset.csv')"
   ],
   "outputs": [],
   "execution_count": 361
  },
  {
   "metadata": {
    "ExecuteTime": {
     "end_time": "2024-08-22T13:33:31.192368Z",
     "start_time": "2024-08-22T13:33:31.182639Z"
    }
   },
   "cell_type": "code",
   "source": "df",
   "id": "833e2fee665071d7",
   "outputs": [
    {
     "data": {
      "text/plain": [
       "        Unnamed: 0   airline   flight source_city departure_time stops  \\\n",
       "0                0  SpiceJet  SG-8709       Delhi        Evening  zero   \n",
       "1                1  SpiceJet  SG-8157       Delhi  Early_Morning  zero   \n",
       "2                2   AirAsia   I5-764       Delhi  Early_Morning  zero   \n",
       "3                3   Vistara   UK-995       Delhi        Morning  zero   \n",
       "4                4   Vistara   UK-963       Delhi        Morning  zero   \n",
       "...            ...       ...      ...         ...            ...   ...   \n",
       "300148      300148   Vistara   UK-822     Chennai        Morning   one   \n",
       "300149      300149   Vistara   UK-826     Chennai      Afternoon   one   \n",
       "300150      300150   Vistara   UK-832     Chennai  Early_Morning   one   \n",
       "300151      300151   Vistara   UK-828     Chennai  Early_Morning   one   \n",
       "300152      300152   Vistara   UK-822     Chennai        Morning   one   \n",
       "\n",
       "         arrival_time destination_city     class  duration  days_left  price  \n",
       "0               Night           Mumbai   Economy      2.17          1   5953  \n",
       "1             Morning           Mumbai   Economy      2.33          1   5953  \n",
       "2       Early_Morning           Mumbai   Economy      2.17          1   5956  \n",
       "3           Afternoon           Mumbai   Economy      2.25          1   5955  \n",
       "4             Morning           Mumbai   Economy      2.33          1   5955  \n",
       "...               ...              ...       ...       ...        ...    ...  \n",
       "300148        Evening        Hyderabad  Business     10.08         49  69265  \n",
       "300149          Night        Hyderabad  Business     10.42         49  77105  \n",
       "300150          Night        Hyderabad  Business     13.83         49  79099  \n",
       "300151        Evening        Hyderabad  Business     10.00         49  81585  \n",
       "300152        Evening        Hyderabad  Business     10.08         49  81585  \n",
       "\n",
       "[300153 rows x 12 columns]"
      ],
      "text/html": [
       "<div>\n",
       "<style scoped>\n",
       "    .dataframe tbody tr th:only-of-type {\n",
       "        vertical-align: middle;\n",
       "    }\n",
       "\n",
       "    .dataframe tbody tr th {\n",
       "        vertical-align: top;\n",
       "    }\n",
       "\n",
       "    .dataframe thead th {\n",
       "        text-align: right;\n",
       "    }\n",
       "</style>\n",
       "<table border=\"1\" class=\"dataframe\">\n",
       "  <thead>\n",
       "    <tr style=\"text-align: right;\">\n",
       "      <th></th>\n",
       "      <th>Unnamed: 0</th>\n",
       "      <th>airline</th>\n",
       "      <th>flight</th>\n",
       "      <th>source_city</th>\n",
       "      <th>departure_time</th>\n",
       "      <th>stops</th>\n",
       "      <th>arrival_time</th>\n",
       "      <th>destination_city</th>\n",
       "      <th>class</th>\n",
       "      <th>duration</th>\n",
       "      <th>days_left</th>\n",
       "      <th>price</th>\n",
       "    </tr>\n",
       "  </thead>\n",
       "  <tbody>\n",
       "    <tr>\n",
       "      <th>0</th>\n",
       "      <td>0</td>\n",
       "      <td>SpiceJet</td>\n",
       "      <td>SG-8709</td>\n",
       "      <td>Delhi</td>\n",
       "      <td>Evening</td>\n",
       "      <td>zero</td>\n",
       "      <td>Night</td>\n",
       "      <td>Mumbai</td>\n",
       "      <td>Economy</td>\n",
       "      <td>2.17</td>\n",
       "      <td>1</td>\n",
       "      <td>5953</td>\n",
       "    </tr>\n",
       "    <tr>\n",
       "      <th>1</th>\n",
       "      <td>1</td>\n",
       "      <td>SpiceJet</td>\n",
       "      <td>SG-8157</td>\n",
       "      <td>Delhi</td>\n",
       "      <td>Early_Morning</td>\n",
       "      <td>zero</td>\n",
       "      <td>Morning</td>\n",
       "      <td>Mumbai</td>\n",
       "      <td>Economy</td>\n",
       "      <td>2.33</td>\n",
       "      <td>1</td>\n",
       "      <td>5953</td>\n",
       "    </tr>\n",
       "    <tr>\n",
       "      <th>2</th>\n",
       "      <td>2</td>\n",
       "      <td>AirAsia</td>\n",
       "      <td>I5-764</td>\n",
       "      <td>Delhi</td>\n",
       "      <td>Early_Morning</td>\n",
       "      <td>zero</td>\n",
       "      <td>Early_Morning</td>\n",
       "      <td>Mumbai</td>\n",
       "      <td>Economy</td>\n",
       "      <td>2.17</td>\n",
       "      <td>1</td>\n",
       "      <td>5956</td>\n",
       "    </tr>\n",
       "    <tr>\n",
       "      <th>3</th>\n",
       "      <td>3</td>\n",
       "      <td>Vistara</td>\n",
       "      <td>UK-995</td>\n",
       "      <td>Delhi</td>\n",
       "      <td>Morning</td>\n",
       "      <td>zero</td>\n",
       "      <td>Afternoon</td>\n",
       "      <td>Mumbai</td>\n",
       "      <td>Economy</td>\n",
       "      <td>2.25</td>\n",
       "      <td>1</td>\n",
       "      <td>5955</td>\n",
       "    </tr>\n",
       "    <tr>\n",
       "      <th>4</th>\n",
       "      <td>4</td>\n",
       "      <td>Vistara</td>\n",
       "      <td>UK-963</td>\n",
       "      <td>Delhi</td>\n",
       "      <td>Morning</td>\n",
       "      <td>zero</td>\n",
       "      <td>Morning</td>\n",
       "      <td>Mumbai</td>\n",
       "      <td>Economy</td>\n",
       "      <td>2.33</td>\n",
       "      <td>1</td>\n",
       "      <td>5955</td>\n",
       "    </tr>\n",
       "    <tr>\n",
       "      <th>...</th>\n",
       "      <td>...</td>\n",
       "      <td>...</td>\n",
       "      <td>...</td>\n",
       "      <td>...</td>\n",
       "      <td>...</td>\n",
       "      <td>...</td>\n",
       "      <td>...</td>\n",
       "      <td>...</td>\n",
       "      <td>...</td>\n",
       "      <td>...</td>\n",
       "      <td>...</td>\n",
       "      <td>...</td>\n",
       "    </tr>\n",
       "    <tr>\n",
       "      <th>300148</th>\n",
       "      <td>300148</td>\n",
       "      <td>Vistara</td>\n",
       "      <td>UK-822</td>\n",
       "      <td>Chennai</td>\n",
       "      <td>Morning</td>\n",
       "      <td>one</td>\n",
       "      <td>Evening</td>\n",
       "      <td>Hyderabad</td>\n",
       "      <td>Business</td>\n",
       "      <td>10.08</td>\n",
       "      <td>49</td>\n",
       "      <td>69265</td>\n",
       "    </tr>\n",
       "    <tr>\n",
       "      <th>300149</th>\n",
       "      <td>300149</td>\n",
       "      <td>Vistara</td>\n",
       "      <td>UK-826</td>\n",
       "      <td>Chennai</td>\n",
       "      <td>Afternoon</td>\n",
       "      <td>one</td>\n",
       "      <td>Night</td>\n",
       "      <td>Hyderabad</td>\n",
       "      <td>Business</td>\n",
       "      <td>10.42</td>\n",
       "      <td>49</td>\n",
       "      <td>77105</td>\n",
       "    </tr>\n",
       "    <tr>\n",
       "      <th>300150</th>\n",
       "      <td>300150</td>\n",
       "      <td>Vistara</td>\n",
       "      <td>UK-832</td>\n",
       "      <td>Chennai</td>\n",
       "      <td>Early_Morning</td>\n",
       "      <td>one</td>\n",
       "      <td>Night</td>\n",
       "      <td>Hyderabad</td>\n",
       "      <td>Business</td>\n",
       "      <td>13.83</td>\n",
       "      <td>49</td>\n",
       "      <td>79099</td>\n",
       "    </tr>\n",
       "    <tr>\n",
       "      <th>300151</th>\n",
       "      <td>300151</td>\n",
       "      <td>Vistara</td>\n",
       "      <td>UK-828</td>\n",
       "      <td>Chennai</td>\n",
       "      <td>Early_Morning</td>\n",
       "      <td>one</td>\n",
       "      <td>Evening</td>\n",
       "      <td>Hyderabad</td>\n",
       "      <td>Business</td>\n",
       "      <td>10.00</td>\n",
       "      <td>49</td>\n",
       "      <td>81585</td>\n",
       "    </tr>\n",
       "    <tr>\n",
       "      <th>300152</th>\n",
       "      <td>300152</td>\n",
       "      <td>Vistara</td>\n",
       "      <td>UK-822</td>\n",
       "      <td>Chennai</td>\n",
       "      <td>Morning</td>\n",
       "      <td>one</td>\n",
       "      <td>Evening</td>\n",
       "      <td>Hyderabad</td>\n",
       "      <td>Business</td>\n",
       "      <td>10.08</td>\n",
       "      <td>49</td>\n",
       "      <td>81585</td>\n",
       "    </tr>\n",
       "  </tbody>\n",
       "</table>\n",
       "<p>300153 rows × 12 columns</p>\n",
       "</div>"
      ]
     },
     "execution_count": 362,
     "metadata": {},
     "output_type": "execute_result"
    }
   ],
   "execution_count": 362
  },
  {
   "metadata": {},
   "cell_type": "markdown",
   "source": "### Airline",
   "id": "557db25030dda557"
  },
  {
   "metadata": {
    "ExecuteTime": {
     "end_time": "2024-08-22T13:33:31.284025Z",
     "start_time": "2024-08-22T13:33:31.268520Z"
    }
   },
   "cell_type": "code",
   "source": "df.airline.value_counts()",
   "id": "391e9c79d493091b",
   "outputs": [
    {
     "data": {
      "text/plain": [
       "airline\n",
       "Vistara      127859\n",
       "Air_India     80892\n",
       "Indigo        43120\n",
       "GO_FIRST      23173\n",
       "AirAsia       16098\n",
       "SpiceJet       9011\n",
       "Name: count, dtype: int64"
      ]
     },
     "execution_count": 363,
     "metadata": {},
     "output_type": "execute_result"
    }
   ],
   "execution_count": 363
  },
  {
   "metadata": {},
   "cell_type": "markdown",
   "source": "### Source_City\n",
   "id": "77523b8f92b22e6"
  },
  {
   "metadata": {
    "ExecuteTime": {
     "end_time": "2024-08-22T13:33:31.458255Z",
     "start_time": "2024-08-22T13:33:31.447291Z"
    }
   },
   "cell_type": "code",
   "source": "df.source_city.value_counts()",
   "id": "796386a4385c3c31",
   "outputs": [
    {
     "data": {
      "text/plain": [
       "source_city\n",
       "Delhi        61343\n",
       "Mumbai       60896\n",
       "Bangalore    52061\n",
       "Kolkata      46347\n",
       "Hyderabad    40806\n",
       "Chennai      38700\n",
       "Name: count, dtype: int64"
      ]
     },
     "execution_count": 364,
     "metadata": {},
     "output_type": "execute_result"
    }
   ],
   "execution_count": 364
  },
  {
   "metadata": {},
   "cell_type": "markdown",
   "source": "### Destination",
   "id": "86b2b69bebc400e5"
  },
  {
   "metadata": {
    "ExecuteTime": {
     "end_time": "2024-08-22T13:33:31.587594Z",
     "start_time": "2024-08-22T13:33:31.575685Z"
    }
   },
   "cell_type": "code",
   "source": "df.destination_city.value_counts()",
   "id": "4654f9af80cb7323",
   "outputs": [
    {
     "data": {
      "text/plain": [
       "destination_city\n",
       "Mumbai       59097\n",
       "Delhi        57360\n",
       "Bangalore    51068\n",
       "Kolkata      49534\n",
       "Hyderabad    42726\n",
       "Chennai      40368\n",
       "Name: count, dtype: int64"
      ]
     },
     "execution_count": 365,
     "metadata": {},
     "output_type": "execute_result"
    }
   ],
   "execution_count": 365
  },
  {
   "metadata": {
    "ExecuteTime": {
     "end_time": "2024-08-22T13:33:31.705490Z",
     "start_time": "2024-08-22T13:33:31.691035Z"
    }
   },
   "cell_type": "code",
   "source": "df.departure_time.value_counts()",
   "id": "25c385ae8165557a",
   "outputs": [
    {
     "data": {
      "text/plain": [
       "departure_time\n",
       "Morning          71146\n",
       "Early_Morning    66790\n",
       "Evening          65102\n",
       "Night            48015\n",
       "Afternoon        47794\n",
       "Late_Night        1306\n",
       "Name: count, dtype: int64"
      ]
     },
     "execution_count": 366,
     "metadata": {},
     "output_type": "execute_result"
    }
   ],
   "execution_count": 366
  },
  {
   "metadata": {
    "ExecuteTime": {
     "end_time": "2024-08-22T13:33:31.852769Z",
     "start_time": "2024-08-22T13:33:31.839928Z"
    }
   },
   "cell_type": "code",
   "source": "df.arrival_time.value_counts()",
   "id": "94cf146fbdac9a21",
   "outputs": [
    {
     "data": {
      "text/plain": [
       "arrival_time\n",
       "Night            91538\n",
       "Evening          78323\n",
       "Morning          62735\n",
       "Afternoon        38139\n",
       "Early_Morning    15417\n",
       "Late_Night       14001\n",
       "Name: count, dtype: int64"
      ]
     },
     "execution_count": 367,
     "metadata": {},
     "output_type": "execute_result"
    }
   ],
   "execution_count": 367
  },
  {
   "metadata": {
    "ExecuteTime": {
     "end_time": "2024-08-22T13:33:31.956354Z",
     "start_time": "2024-08-22T13:33:31.945248Z"
    }
   },
   "cell_type": "code",
   "source": "df.stops.value_counts()",
   "id": "5c0bf0b2bb75f05f",
   "outputs": [
    {
     "data": {
      "text/plain": [
       "stops\n",
       "one            250863\n",
       "zero            36004\n",
       "two_or_more     13286\n",
       "Name: count, dtype: int64"
      ]
     },
     "execution_count": 368,
     "metadata": {},
     "output_type": "execute_result"
    }
   ],
   "execution_count": 368
  },
  {
   "metadata": {
    "ExecuteTime": {
     "end_time": "2024-08-22T13:33:32.060410Z",
     "start_time": "2024-08-22T13:33:32.049371Z"
    }
   },
   "cell_type": "code",
   "source": "df['class'].value_counts()",
   "id": "f32ae373440ca872",
   "outputs": [
    {
     "data": {
      "text/plain": [
       "class\n",
       "Economy     206666\n",
       "Business     93487\n",
       "Name: count, dtype: int64"
      ]
     },
     "execution_count": 369,
     "metadata": {},
     "output_type": "execute_result"
    }
   ],
   "execution_count": 369
  },
  {
   "metadata": {
    "ExecuteTime": {
     "end_time": "2024-08-22T13:33:32.164593Z",
     "start_time": "2024-08-22T13:33:32.161658Z"
    }
   },
   "cell_type": "code",
   "source": "df['duration'].min()",
   "id": "dc302ff853436b58",
   "outputs": [
    {
     "data": {
      "text/plain": [
       "0.83"
      ]
     },
     "execution_count": 370,
     "metadata": {},
     "output_type": "execute_result"
    }
   ],
   "execution_count": 370
  },
  {
   "metadata": {
    "ExecuteTime": {
     "end_time": "2024-08-22T13:33:32.363984Z",
     "start_time": "2024-08-22T13:33:32.360942Z"
    }
   },
   "cell_type": "code",
   "source": "df['duration'].max()",
   "id": "4feb660c131700f0",
   "outputs": [
    {
     "data": {
      "text/plain": [
       "49.83"
      ]
     },
     "execution_count": 371,
     "metadata": {},
     "output_type": "execute_result"
    }
   ],
   "execution_count": 371
  },
  {
   "metadata": {
    "ExecuteTime": {
     "end_time": "2024-08-22T13:33:32.456131Z",
     "start_time": "2024-08-22T13:33:32.445890Z"
    }
   },
   "cell_type": "code",
   "source": "df['duration'].median()",
   "id": "5bc276bbfe09b84b",
   "outputs": [
    {
     "data": {
      "text/plain": [
       "11.25"
      ]
     },
     "execution_count": 372,
     "metadata": {},
     "output_type": "execute_result"
    }
   ],
   "execution_count": 372
  },
  {
   "metadata": {},
   "cell_type": "markdown",
   "source": "## Preprocessing",
   "id": "6f6ce2f1e3ee69a8"
  },
  {
   "metadata": {
    "ExecuteTime": {
     "end_time": "2024-08-22T13:33:32.603521Z",
     "start_time": "2024-08-22T13:33:32.522395Z"
    }
   },
   "cell_type": "code",
   "source": [
    "df =  df.drop('Unnamed: 0', axis=1)\n",
    "df =  df.drop('flight', axis=1)\n",
    "\n",
    "df['class'] = df['class'].apply(lambda x: 1 if x =='Business' else 0)"
   ],
   "id": "2cf1a945b523e1d3",
   "outputs": [],
   "execution_count": 373
  },
  {
   "metadata": {
    "ExecuteTime": {
     "end_time": "2024-08-22T13:33:32.622291Z",
     "start_time": "2024-08-22T13:33:32.613747Z"
    }
   },
   "cell_type": "code",
   "source": "df.stops = pd.factorize(df.stops)[0]\n",
   "id": "7558efbd736a8648",
   "outputs": [],
   "execution_count": 374
  },
  {
   "metadata": {
    "ExecuteTime": {
     "end_time": "2024-08-22T13:33:32.772645Z",
     "start_time": "2024-08-22T13:33:32.631989Z"
    }
   },
   "cell_type": "code",
   "source": [
    "df = df.join(pd.get_dummies(df.airline,  prefix='airline')).drop('airline' , axis=1)\n",
    "df = df.join(pd.get_dummies(df.source_city,  prefix='source')).drop('source_city' , axis=1)\n",
    "df = df.join(pd.get_dummies(df.destination_city,  prefix='dest')).drop('destination_city' , axis=1)\n",
    "df = df.join(pd.get_dummies(df.arrival_time,  prefix='arrival')).drop('arrival_time' , axis=1)\n",
    "df = df.join(pd.get_dummies(df.departure_time,  prefix='departure')).drop('departure_time' , axis=1)\n"
   ],
   "id": "142c26b5329bfd13",
   "outputs": [],
   "execution_count": 375
  },
  {
   "metadata": {
    "ExecuteTime": {
     "end_time": "2024-08-22T13:33:32.837506Z",
     "start_time": "2024-08-22T13:33:32.818312Z"
    }
   },
   "cell_type": "code",
   "source": "df",
   "id": "ef60f0486710c1a8",
   "outputs": [
    {
     "data": {
      "text/plain": [
       "        stops  class  duration  days_left  price  airline_AirAsia  \\\n",
       "0           0      0      2.17          1   5953            False   \n",
       "1           0      0      2.33          1   5953            False   \n",
       "2           0      0      2.17          1   5956             True   \n",
       "3           0      0      2.25          1   5955            False   \n",
       "4           0      0      2.33          1   5955            False   \n",
       "...       ...    ...       ...        ...    ...              ...   \n",
       "300148      1      1     10.08         49  69265            False   \n",
       "300149      1      1     10.42         49  77105            False   \n",
       "300150      1      1     13.83         49  79099            False   \n",
       "300151      1      1     10.00         49  81585            False   \n",
       "300152      1      1     10.08         49  81585            False   \n",
       "\n",
       "        airline_Air_India  airline_GO_FIRST  airline_Indigo  airline_SpiceJet  \\\n",
       "0                   False             False           False              True   \n",
       "1                   False             False           False              True   \n",
       "2                   False             False           False             False   \n",
       "3                   False             False           False             False   \n",
       "4                   False             False           False             False   \n",
       "...                   ...               ...             ...               ...   \n",
       "300148              False             False           False             False   \n",
       "300149              False             False           False             False   \n",
       "300150              False             False           False             False   \n",
       "300151              False             False           False             False   \n",
       "300152              False             False           False             False   \n",
       "\n",
       "        ...  arrival_Evening  arrival_Late_Night  arrival_Morning  \\\n",
       "0       ...            False               False            False   \n",
       "1       ...            False               False             True   \n",
       "2       ...            False               False            False   \n",
       "3       ...            False               False            False   \n",
       "4       ...            False               False             True   \n",
       "...     ...              ...                 ...              ...   \n",
       "300148  ...             True               False            False   \n",
       "300149  ...            False               False            False   \n",
       "300150  ...            False               False            False   \n",
       "300151  ...             True               False            False   \n",
       "300152  ...             True               False            False   \n",
       "\n",
       "        arrival_Night  departure_Afternoon  departure_Early_Morning  \\\n",
       "0                True                False                    False   \n",
       "1               False                False                     True   \n",
       "2               False                False                     True   \n",
       "3               False                False                    False   \n",
       "4               False                False                    False   \n",
       "...               ...                  ...                      ...   \n",
       "300148          False                False                    False   \n",
       "300149           True                 True                    False   \n",
       "300150           True                False                     True   \n",
       "300151          False                False                     True   \n",
       "300152          False                False                    False   \n",
       "\n",
       "        departure_Evening  departure_Late_Night  departure_Morning  \\\n",
       "0                    True                 False              False   \n",
       "1                   False                 False              False   \n",
       "2                   False                 False              False   \n",
       "3                   False                 False               True   \n",
       "4                   False                 False               True   \n",
       "...                   ...                   ...                ...   \n",
       "300148              False                 False               True   \n",
       "300149              False                 False              False   \n",
       "300150              False                 False              False   \n",
       "300151              False                 False              False   \n",
       "300152              False                 False               True   \n",
       "\n",
       "        departure_Night  \n",
       "0                 False  \n",
       "1                 False  \n",
       "2                 False  \n",
       "3                 False  \n",
       "4                 False  \n",
       "...                 ...  \n",
       "300148            False  \n",
       "300149            False  \n",
       "300150            False  \n",
       "300151            False  \n",
       "300152            False  \n",
       "\n",
       "[300153 rows x 35 columns]"
      ],
      "text/html": [
       "<div>\n",
       "<style scoped>\n",
       "    .dataframe tbody tr th:only-of-type {\n",
       "        vertical-align: middle;\n",
       "    }\n",
       "\n",
       "    .dataframe tbody tr th {\n",
       "        vertical-align: top;\n",
       "    }\n",
       "\n",
       "    .dataframe thead th {\n",
       "        text-align: right;\n",
       "    }\n",
       "</style>\n",
       "<table border=\"1\" class=\"dataframe\">\n",
       "  <thead>\n",
       "    <tr style=\"text-align: right;\">\n",
       "      <th></th>\n",
       "      <th>stops</th>\n",
       "      <th>class</th>\n",
       "      <th>duration</th>\n",
       "      <th>days_left</th>\n",
       "      <th>price</th>\n",
       "      <th>airline_AirAsia</th>\n",
       "      <th>airline_Air_India</th>\n",
       "      <th>airline_GO_FIRST</th>\n",
       "      <th>airline_Indigo</th>\n",
       "      <th>airline_SpiceJet</th>\n",
       "      <th>...</th>\n",
       "      <th>arrival_Evening</th>\n",
       "      <th>arrival_Late_Night</th>\n",
       "      <th>arrival_Morning</th>\n",
       "      <th>arrival_Night</th>\n",
       "      <th>departure_Afternoon</th>\n",
       "      <th>departure_Early_Morning</th>\n",
       "      <th>departure_Evening</th>\n",
       "      <th>departure_Late_Night</th>\n",
       "      <th>departure_Morning</th>\n",
       "      <th>departure_Night</th>\n",
       "    </tr>\n",
       "  </thead>\n",
       "  <tbody>\n",
       "    <tr>\n",
       "      <th>0</th>\n",
       "      <td>0</td>\n",
       "      <td>0</td>\n",
       "      <td>2.17</td>\n",
       "      <td>1</td>\n",
       "      <td>5953</td>\n",
       "      <td>False</td>\n",
       "      <td>False</td>\n",
       "      <td>False</td>\n",
       "      <td>False</td>\n",
       "      <td>True</td>\n",
       "      <td>...</td>\n",
       "      <td>False</td>\n",
       "      <td>False</td>\n",
       "      <td>False</td>\n",
       "      <td>True</td>\n",
       "      <td>False</td>\n",
       "      <td>False</td>\n",
       "      <td>True</td>\n",
       "      <td>False</td>\n",
       "      <td>False</td>\n",
       "      <td>False</td>\n",
       "    </tr>\n",
       "    <tr>\n",
       "      <th>1</th>\n",
       "      <td>0</td>\n",
       "      <td>0</td>\n",
       "      <td>2.33</td>\n",
       "      <td>1</td>\n",
       "      <td>5953</td>\n",
       "      <td>False</td>\n",
       "      <td>False</td>\n",
       "      <td>False</td>\n",
       "      <td>False</td>\n",
       "      <td>True</td>\n",
       "      <td>...</td>\n",
       "      <td>False</td>\n",
       "      <td>False</td>\n",
       "      <td>True</td>\n",
       "      <td>False</td>\n",
       "      <td>False</td>\n",
       "      <td>True</td>\n",
       "      <td>False</td>\n",
       "      <td>False</td>\n",
       "      <td>False</td>\n",
       "      <td>False</td>\n",
       "    </tr>\n",
       "    <tr>\n",
       "      <th>2</th>\n",
       "      <td>0</td>\n",
       "      <td>0</td>\n",
       "      <td>2.17</td>\n",
       "      <td>1</td>\n",
       "      <td>5956</td>\n",
       "      <td>True</td>\n",
       "      <td>False</td>\n",
       "      <td>False</td>\n",
       "      <td>False</td>\n",
       "      <td>False</td>\n",
       "      <td>...</td>\n",
       "      <td>False</td>\n",
       "      <td>False</td>\n",
       "      <td>False</td>\n",
       "      <td>False</td>\n",
       "      <td>False</td>\n",
       "      <td>True</td>\n",
       "      <td>False</td>\n",
       "      <td>False</td>\n",
       "      <td>False</td>\n",
       "      <td>False</td>\n",
       "    </tr>\n",
       "    <tr>\n",
       "      <th>3</th>\n",
       "      <td>0</td>\n",
       "      <td>0</td>\n",
       "      <td>2.25</td>\n",
       "      <td>1</td>\n",
       "      <td>5955</td>\n",
       "      <td>False</td>\n",
       "      <td>False</td>\n",
       "      <td>False</td>\n",
       "      <td>False</td>\n",
       "      <td>False</td>\n",
       "      <td>...</td>\n",
       "      <td>False</td>\n",
       "      <td>False</td>\n",
       "      <td>False</td>\n",
       "      <td>False</td>\n",
       "      <td>False</td>\n",
       "      <td>False</td>\n",
       "      <td>False</td>\n",
       "      <td>False</td>\n",
       "      <td>True</td>\n",
       "      <td>False</td>\n",
       "    </tr>\n",
       "    <tr>\n",
       "      <th>4</th>\n",
       "      <td>0</td>\n",
       "      <td>0</td>\n",
       "      <td>2.33</td>\n",
       "      <td>1</td>\n",
       "      <td>5955</td>\n",
       "      <td>False</td>\n",
       "      <td>False</td>\n",
       "      <td>False</td>\n",
       "      <td>False</td>\n",
       "      <td>False</td>\n",
       "      <td>...</td>\n",
       "      <td>False</td>\n",
       "      <td>False</td>\n",
       "      <td>True</td>\n",
       "      <td>False</td>\n",
       "      <td>False</td>\n",
       "      <td>False</td>\n",
       "      <td>False</td>\n",
       "      <td>False</td>\n",
       "      <td>True</td>\n",
       "      <td>False</td>\n",
       "    </tr>\n",
       "    <tr>\n",
       "      <th>...</th>\n",
       "      <td>...</td>\n",
       "      <td>...</td>\n",
       "      <td>...</td>\n",
       "      <td>...</td>\n",
       "      <td>...</td>\n",
       "      <td>...</td>\n",
       "      <td>...</td>\n",
       "      <td>...</td>\n",
       "      <td>...</td>\n",
       "      <td>...</td>\n",
       "      <td>...</td>\n",
       "      <td>...</td>\n",
       "      <td>...</td>\n",
       "      <td>...</td>\n",
       "      <td>...</td>\n",
       "      <td>...</td>\n",
       "      <td>...</td>\n",
       "      <td>...</td>\n",
       "      <td>...</td>\n",
       "      <td>...</td>\n",
       "      <td>...</td>\n",
       "    </tr>\n",
       "    <tr>\n",
       "      <th>300148</th>\n",
       "      <td>1</td>\n",
       "      <td>1</td>\n",
       "      <td>10.08</td>\n",
       "      <td>49</td>\n",
       "      <td>69265</td>\n",
       "      <td>False</td>\n",
       "      <td>False</td>\n",
       "      <td>False</td>\n",
       "      <td>False</td>\n",
       "      <td>False</td>\n",
       "      <td>...</td>\n",
       "      <td>True</td>\n",
       "      <td>False</td>\n",
       "      <td>False</td>\n",
       "      <td>False</td>\n",
       "      <td>False</td>\n",
       "      <td>False</td>\n",
       "      <td>False</td>\n",
       "      <td>False</td>\n",
       "      <td>True</td>\n",
       "      <td>False</td>\n",
       "    </tr>\n",
       "    <tr>\n",
       "      <th>300149</th>\n",
       "      <td>1</td>\n",
       "      <td>1</td>\n",
       "      <td>10.42</td>\n",
       "      <td>49</td>\n",
       "      <td>77105</td>\n",
       "      <td>False</td>\n",
       "      <td>False</td>\n",
       "      <td>False</td>\n",
       "      <td>False</td>\n",
       "      <td>False</td>\n",
       "      <td>...</td>\n",
       "      <td>False</td>\n",
       "      <td>False</td>\n",
       "      <td>False</td>\n",
       "      <td>True</td>\n",
       "      <td>True</td>\n",
       "      <td>False</td>\n",
       "      <td>False</td>\n",
       "      <td>False</td>\n",
       "      <td>False</td>\n",
       "      <td>False</td>\n",
       "    </tr>\n",
       "    <tr>\n",
       "      <th>300150</th>\n",
       "      <td>1</td>\n",
       "      <td>1</td>\n",
       "      <td>13.83</td>\n",
       "      <td>49</td>\n",
       "      <td>79099</td>\n",
       "      <td>False</td>\n",
       "      <td>False</td>\n",
       "      <td>False</td>\n",
       "      <td>False</td>\n",
       "      <td>False</td>\n",
       "      <td>...</td>\n",
       "      <td>False</td>\n",
       "      <td>False</td>\n",
       "      <td>False</td>\n",
       "      <td>True</td>\n",
       "      <td>False</td>\n",
       "      <td>True</td>\n",
       "      <td>False</td>\n",
       "      <td>False</td>\n",
       "      <td>False</td>\n",
       "      <td>False</td>\n",
       "    </tr>\n",
       "    <tr>\n",
       "      <th>300151</th>\n",
       "      <td>1</td>\n",
       "      <td>1</td>\n",
       "      <td>10.00</td>\n",
       "      <td>49</td>\n",
       "      <td>81585</td>\n",
       "      <td>False</td>\n",
       "      <td>False</td>\n",
       "      <td>False</td>\n",
       "      <td>False</td>\n",
       "      <td>False</td>\n",
       "      <td>...</td>\n",
       "      <td>True</td>\n",
       "      <td>False</td>\n",
       "      <td>False</td>\n",
       "      <td>False</td>\n",
       "      <td>False</td>\n",
       "      <td>True</td>\n",
       "      <td>False</td>\n",
       "      <td>False</td>\n",
       "      <td>False</td>\n",
       "      <td>False</td>\n",
       "    </tr>\n",
       "    <tr>\n",
       "      <th>300152</th>\n",
       "      <td>1</td>\n",
       "      <td>1</td>\n",
       "      <td>10.08</td>\n",
       "      <td>49</td>\n",
       "      <td>81585</td>\n",
       "      <td>False</td>\n",
       "      <td>False</td>\n",
       "      <td>False</td>\n",
       "      <td>False</td>\n",
       "      <td>False</td>\n",
       "      <td>...</td>\n",
       "      <td>True</td>\n",
       "      <td>False</td>\n",
       "      <td>False</td>\n",
       "      <td>False</td>\n",
       "      <td>False</td>\n",
       "      <td>False</td>\n",
       "      <td>False</td>\n",
       "      <td>False</td>\n",
       "      <td>True</td>\n",
       "      <td>False</td>\n",
       "    </tr>\n",
       "  </tbody>\n",
       "</table>\n",
       "<p>300153 rows × 35 columns</p>\n",
       "</div>"
      ]
     },
     "execution_count": 376,
     "metadata": {},
     "output_type": "execute_result"
    }
   ],
   "execution_count": 376
  },
  {
   "metadata": {},
   "cell_type": "markdown",
   "source": "## Training Regression Model\n",
   "id": "a99df405bd8c8a"
  },
  {
   "metadata": {
    "ExecuteTime": {
     "end_time": "2024-08-22T13:33:32.874308Z",
     "start_time": "2024-08-22T13:33:32.866099Z"
    }
   },
   "cell_type": "code",
   "source": [
    "from sklearn.model_selection import train_test_split\n",
    "from sklearn.ensemble import RandomForestRegressor\n",
    "\n",
    "x , y = df.drop('price' , axis=1) , df.price"
   ],
   "id": "df417ce06c4378ab",
   "outputs": [],
   "execution_count": 377
  },
  {
   "metadata": {
    "ExecuteTime": {
     "end_time": "2024-08-22T13:33:32.981966Z",
     "start_time": "2024-08-22T13:33:32.944887Z"
    }
   },
   "cell_type": "code",
   "source": "x_train , x_test , y_train , y_test = train_test_split(x, y, test_size=0.2)\n",
   "id": "6c9c0342a4a9f0c7",
   "outputs": [],
   "execution_count": 378
  },
  {
   "metadata": {
    "ExecuteTime": {
     "end_time": "2024-08-22T13:33:46.497044Z",
     "start_time": "2024-08-22T13:33:33.030017Z"
    }
   },
   "cell_type": "code",
   "source": [
    "reg = RandomForestRegressor(n_jobs=-1 )\n",
    "\n",
    "reg.fit(x_train, y_train)"
   ],
   "id": "1277e5bcda32ff",
   "outputs": [
    {
     "data": {
      "text/plain": [
       "RandomForestRegressor(n_jobs=-1)"
      ],
      "text/html": [
       "<style>#sk-container-id-9 {color: black;}#sk-container-id-9 pre{padding: 0;}#sk-container-id-9 div.sk-toggleable {background-color: white;}#sk-container-id-9 label.sk-toggleable__label {cursor: pointer;display: block;width: 100%;margin-bottom: 0;padding: 0.3em;box-sizing: border-box;text-align: center;}#sk-container-id-9 label.sk-toggleable__label-arrow:before {content: \"▸\";float: left;margin-right: 0.25em;color: #696969;}#sk-container-id-9 label.sk-toggleable__label-arrow:hover:before {color: black;}#sk-container-id-9 div.sk-estimator:hover label.sk-toggleable__label-arrow:before {color: black;}#sk-container-id-9 div.sk-toggleable__content {max-height: 0;max-width: 0;overflow: hidden;text-align: left;background-color: #f0f8ff;}#sk-container-id-9 div.sk-toggleable__content pre {margin: 0.2em;color: black;border-radius: 0.25em;background-color: #f0f8ff;}#sk-container-id-9 input.sk-toggleable__control:checked~div.sk-toggleable__content {max-height: 200px;max-width: 100%;overflow: auto;}#sk-container-id-9 input.sk-toggleable__control:checked~label.sk-toggleable__label-arrow:before {content: \"▾\";}#sk-container-id-9 div.sk-estimator input.sk-toggleable__control:checked~label.sk-toggleable__label {background-color: #d4ebff;}#sk-container-id-9 div.sk-label input.sk-toggleable__control:checked~label.sk-toggleable__label {background-color: #d4ebff;}#sk-container-id-9 input.sk-hidden--visually {border: 0;clip: rect(1px 1px 1px 1px);clip: rect(1px, 1px, 1px, 1px);height: 1px;margin: -1px;overflow: hidden;padding: 0;position: absolute;width: 1px;}#sk-container-id-9 div.sk-estimator {font-family: monospace;background-color: #f0f8ff;border: 1px dotted black;border-radius: 0.25em;box-sizing: border-box;margin-bottom: 0.5em;}#sk-container-id-9 div.sk-estimator:hover {background-color: #d4ebff;}#sk-container-id-9 div.sk-parallel-item::after {content: \"\";width: 100%;border-bottom: 1px solid gray;flex-grow: 1;}#sk-container-id-9 div.sk-label:hover label.sk-toggleable__label {background-color: #d4ebff;}#sk-container-id-9 div.sk-serial::before {content: \"\";position: absolute;border-left: 1px solid gray;box-sizing: border-box;top: 0;bottom: 0;left: 50%;z-index: 0;}#sk-container-id-9 div.sk-serial {display: flex;flex-direction: column;align-items: center;background-color: white;padding-right: 0.2em;padding-left: 0.2em;position: relative;}#sk-container-id-9 div.sk-item {position: relative;z-index: 1;}#sk-container-id-9 div.sk-parallel {display: flex;align-items: stretch;justify-content: center;background-color: white;position: relative;}#sk-container-id-9 div.sk-item::before, #sk-container-id-9 div.sk-parallel-item::before {content: \"\";position: absolute;border-left: 1px solid gray;box-sizing: border-box;top: 0;bottom: 0;left: 50%;z-index: -1;}#sk-container-id-9 div.sk-parallel-item {display: flex;flex-direction: column;z-index: 1;position: relative;background-color: white;}#sk-container-id-9 div.sk-parallel-item:first-child::after {align-self: flex-end;width: 50%;}#sk-container-id-9 div.sk-parallel-item:last-child::after {align-self: flex-start;width: 50%;}#sk-container-id-9 div.sk-parallel-item:only-child::after {width: 0;}#sk-container-id-9 div.sk-dashed-wrapped {border: 1px dashed gray;margin: 0 0.4em 0.5em 0.4em;box-sizing: border-box;padding-bottom: 0.4em;background-color: white;}#sk-container-id-9 div.sk-label label {font-family: monospace;font-weight: bold;display: inline-block;line-height: 1.2em;}#sk-container-id-9 div.sk-label-container {text-align: center;}#sk-container-id-9 div.sk-container {/* jupyter's `normalize.less` sets `[hidden] { display: none; }` but bootstrap.min.css set `[hidden] { display: none !important; }` so we also need the `!important` here to be able to override the default hidden behavior on the sphinx rendered scikit-learn.org. See: https://github.com/scikit-learn/scikit-learn/issues/21755 */display: inline-block !important;position: relative;}#sk-container-id-9 div.sk-text-repr-fallback {display: none;}</style><div id=\"sk-container-id-9\" class=\"sk-top-container\"><div class=\"sk-text-repr-fallback\"><pre>RandomForestRegressor(n_jobs=-1)</pre><b>In a Jupyter environment, please rerun this cell to show the HTML representation or trust the notebook. <br />On GitHub, the HTML representation is unable to render, please try loading this page with nbviewer.org.</b></div><div class=\"sk-container\" hidden><div class=\"sk-item\"><div class=\"sk-estimator sk-toggleable\"><input class=\"sk-toggleable__control sk-hidden--visually\" id=\"sk-estimator-id-9\" type=\"checkbox\" checked><label for=\"sk-estimator-id-9\" class=\"sk-toggleable__label sk-toggleable__label-arrow\">RandomForestRegressor</label><div class=\"sk-toggleable__content\"><pre>RandomForestRegressor(n_jobs=-1)</pre></div></div></div></div></div>"
      ]
     },
     "execution_count": 379,
     "metadata": {},
     "output_type": "execute_result"
    }
   ],
   "execution_count": 379
  },
  {
   "metadata": {
    "ExecuteTime": {
     "end_time": "2024-08-22T13:33:47.165Z",
     "start_time": "2024-08-22T13:33:46.656879Z"
    }
   },
   "cell_type": "code",
   "source": "reg.score(x_test, y_test)",
   "id": "5405fc620b8b4448",
   "outputs": [
    {
     "data": {
      "text/plain": [
       "0.9849962709340432"
      ]
     },
     "execution_count": 380,
     "metadata": {},
     "output_type": "execute_result"
    }
   ],
   "execution_count": 380
  },
  {
   "metadata": {
    "ExecuteTime": {
     "end_time": "2024-08-22T13:33:47.199906Z",
     "start_time": "2024-08-22T13:33:47.196116Z"
    }
   },
   "cell_type": "code",
   "source": [
    "from sklearn.metrics import mean_squared_error , mean_absolute_error , r2_score\n",
    "import math"
   ],
   "id": "8d808ddda105374f",
   "outputs": [],
   "execution_count": 381
  },
  {
   "metadata": {
    "ExecuteTime": {
     "end_time": "2024-08-22T13:33:47.813468Z",
     "start_time": "2024-08-22T13:33:47.300784Z"
    }
   },
   "cell_type": "code",
   "source": [
    "y_pred  = reg.predict(x_test)\n",
    "\n",
    "print('--------------------------')\n",
    "\n",
    "print(f'R2: {r2_score(y_test, y_pred)}')\n",
    "print(f'MAE: {mean_absolute_error(y_test, y_pred)}')\n",
    "print(f'MSE: {mean_squared_error(y_test, y_pred)}')\n",
    "print(f'RISE: {math.sqrt(mean_squared_error(y_test, y_pred))}')\n"
   ],
   "id": "47e2af3d1d2c520e",
   "outputs": [
    {
     "name": "stdout",
     "output_type": "stream",
     "text": [
      "--------------------------\n",
      "R2: 0.9849962709340432\n",
      "MAE: 1082.5943766807784\n",
      "MSE: 7733424.523169018\n",
      "RISE: 2780.903544384274\n"
     ]
    }
   ],
   "execution_count": 382
  },
  {
   "metadata": {
    "ExecuteTime": {
     "end_time": "2024-08-22T13:33:48.021427Z",
     "start_time": "2024-08-22T13:33:47.844958Z"
    }
   },
   "cell_type": "code",
   "source": [
    "import matplotlib.pyplot as plt\n",
    "\n",
    "plt.scatter(y_test, y_pred)\n",
    "plt.xlabel('Actual Flight price')\n",
    "plt.ylabel('Predicted Flight Price')\n",
    "plt.title('Prediction vs Actual Flight Price')"
   ],
   "id": "8da0eaf3fc8717b7",
   "outputs": [
    {
     "data": {
      "text/plain": [
       "Text(0.5, 1.0, 'Prediction vs Actual Flight Price')"
      ]
     },
     "execution_count": 383,
     "metadata": {},
     "output_type": "execute_result"
    },
    {
     "data": {
      "text/plain": [
       "<Figure size 640x480 with 1 Axes>"
      ],
      "image/png": "[encoded data removed]"
     },
     "metadata": {},
     "output_type": "display_data"
    }
   ],
   "execution_count": 383
  },
  {
   "metadata": {
    "ExecuteTime": {
     "end_time": "2024-08-22T13:33:48.123476Z",
     "start_time": "2024-08-22T13:33:48.115921Z"
    }
   },
   "cell_type": "code",
   "source": "df.price.describe()",
   "id": "bdf8d23d1bbcf252",
   "outputs": [
    {
     "data": {
      "text/plain": [
       "count    300153.000000\n",
       "mean      20889.660523\n",
       "std       22697.767366\n",
       "min        1105.000000\n",
       "25%        4783.000000\n",
       "50%        7425.000000\n",
       "75%       42521.000000\n",
       "max      123071.000000\n",
       "Name: price, dtype: float64"
      ]
     },
     "execution_count": 384,
     "metadata": {},
     "output_type": "execute_result"
    }
   ],
   "execution_count": 384
  },
  {
   "metadata": {
    "ExecuteTime": {
     "end_time": "2024-08-22T13:33:48.404660Z",
     "start_time": "2024-08-22T13:33:48.172518Z"
    }
   },
   "cell_type": "code",
   "source": [
    "importances = dict(zip(reg.feature_names_in_ , reg.feature_importances_))\n",
    "sorted_importances = sorted(importances.items(), key=lambda x: x[1], reverse=True)\n"
   ],
   "id": "78e223368cae874e",
   "outputs": [],
   "execution_count": 385
  },
  {
   "metadata": {
    "ExecuteTime": {
     "end_time": "2024-08-22T13:33:48.523011Z",
     "start_time": "2024-08-22T13:33:48.510134Z"
    }
   },
   "cell_type": "code",
   "source": "df.days_left.describe()",
   "id": "6fe5c0f632103f8",
   "outputs": [
    {
     "data": {
      "text/plain": [
       "count    300153.000000\n",
       "mean         26.004751\n",
       "std          13.561004\n",
       "min           1.000000\n",
       "25%          15.000000\n",
       "50%          26.000000\n",
       "75%          38.000000\n",
       "max          49.000000\n",
       "Name: days_left, dtype: float64"
      ]
     },
     "execution_count": 386,
     "metadata": {},
     "output_type": "execute_result"
    }
   ],
   "execution_count": 386
  },
  {
   "metadata": {
    "ExecuteTime": {
     "end_time": "2024-08-22T13:33:48.719043Z",
     "start_time": "2024-08-22T13:33:48.585828Z"
    }
   },
   "cell_type": "code",
   "source": [
    "plt.figure(figsize = (16,6))\n",
    "plt.bar([x[0] for x in sorted_importances[:10]] , [x[1] for x in sorted_importances[:10]])\n",
    "        "
   ],
   "id": "5fb38b5f603a3551",
   "outputs": [
    {
     "data": {
      "text/plain": [
       "<BarContainer object of 10 artists>"
      ]
     },
     "execution_count": 387,
     "metadata": {},
     "output_type": "execute_result"
    },
    {
     "data": {
      "text/plain": [
       "<Figure size 1600x600 with 1 Axes>"
      ],
      "image/png": "[encoded data removed]"
     },
     "metadata": {},
     "output_type": "display_data"
    }
   ],
   "execution_count": 387
  },
  {
   "metadata": {},
   "cell_type": "markdown",
   "source": "### Hyper Parameter\n",
   "id": "f1ba6ae5b8baf26a"
  },
  {
   "metadata": {
    "ExecuteTime": {
     "end_time": "2024-08-22T13:33:52.936424Z",
     "start_time": "2024-08-22T13:33:48.810349Z"
    }
   },
   "cell_type": "code",
   "source": [
    "from sklearn.datasets import make_regression\n",
    "from sklearn.ensemble import RandomForestRegressor\n",
    "from sklearn.model_selection import RandomizedSearchCV, train_test_split\n",
    "import numpy as np\n",
    "\n",
    "# Generate a random regression problem\n",
    "x, y = make_regression(n_samples=1000, n_features=20, noise=0.1, random_state=42)\n",
    "\n",
    "# Split the dataset into training and testing sets\n",
    "x_train, x_test, y_train, y_test = train_test_split(x, y, test_size=0.2, random_state=42)\n",
    "\n",
    "# Initialize the RandomForestRegressor\n",
    "reg = RandomForestRegressor(n_jobs=-1, random_state=42)\n",
    "\n",
    "# Define the parameter grid to sample from during RandomizedSearchCV\n",
    "param_distributions = {\n",
    "    'n_estimators': [100, 200, 300],\n",
    "    'max_depth': [None, 10, 20, 30],\n",
    "    'min_samples_split': [2, 5, 10],\n",
    "    'min_samples_leaf': [1, 2, 4],\n",
    "    'max_features': ['sqrt', 'log2', None]  # Removed 'auto'\n",
    "}\n",
    "\n",
    "# Set up RandomizedSearchCV\n",
    "random_search = RandomizedSearchCV(\n",
    "    reg, \n",
    "    param_distributions, \n",
    "    n_iter=10,  # Number of different combinations to try\n",
    "    cv=5,       # Number of folds in cross-validation\n",
    "    verbose=2,  # Print out progress\n",
    "    random_state=42,  # For reproducibility\n",
    "    n_jobs=-1   # Use all available cores\n",
    ")\n",
    "\n",
    "# Fit the model\n",
    "random_search.fit(x_train, y_train)\n",
    "\n",
    "# Get the best parameters found by RandomizedSearchCV\n",
    "best_params = random_search.best_params_\n",
    "print(\"Best Parameters found by RandomizedSearchCV:\", best_params)\n",
    "\n",
    "# Evaluate the best model on the test set\n",
    "best_model = random_search.best_estimator_\n",
    "test_score = best_model.score(x_test, y_test)\n",
    "print(\"Test set score:\", test_score)\n"
   ],
   "id": "89556fb2ea3184f0",
   "outputs": [
    {
     "name": "stdout",
     "output_type": "stream",
     "text": [
      "Fitting 5 folds for each of 10 candidates, totalling 50 fits\n",
      "Best Parameters found by RandomizedSearchCV: {'n_estimators': 300, 'min_samples_split': 2, 'min_samples_leaf': 1, 'max_features': None, 'max_depth': 10}\n",
      "Test set score: 0.823583496689698\n"
     ]
    }
   ],
   "execution_count": 388
  },
  {
   "metadata": {
    "ExecuteTime": {
     "end_time": "2024-08-22T13:33:54.103180Z",
     "start_time": "2024-08-22T13:33:52.987664Z"
    }
   },
   "cell_type": "code",
   "source": [
    "from sklearn.model_selection import RandomizedSearchCV\n",
    "from scipy.stats import randint\n",
    "from sklearn.ensemble import RandomForestRegressor\n",
    "\n",
    "# Define the parameter grid with valid options for max_features\n",
    "param_grid = {\n",
    "    'n_estimators': randint(100, 300),\n",
    "    'max_depth': [None, 10, 20, 30, 40, 50],\n",
    "    'min_samples_split': randint(2, 11),\n",
    "    'min_samples_leaf': randint(1, 5),\n",
    "    'max_features': [1.0, 'sqrt', 'log2']  # Removed 'auto'\n",
    "}\n",
    "\n",
    "# Initialize the RandomForestRegressor\n",
    "reg = RandomForestRegressor(n_jobs=-1)\n",
    "\n",
    "# Set up RandomizedSearchCV\n",
    "random_search = RandomizedSearchCV(\n",
    "    estimator=reg,\n",
    "    param_distributions=param_grid,\n",
    "    n_iter=2,  # Number of iterations\n",
    "    cv=3,  # Number of cross-validation folds\n",
    "    scoring='neg_mean_squared_error',  # Metric for evaluating the model\n",
    "    verbose=2,\n",
    "    random_state=10,\n",
    "    n_jobs=-1  # Use all available CPU cores\n",
    ")\n",
    "\n",
    "# Fit the model\n",
    "random_search.fit(x_train, y_train)\n",
    "\n",
    "# Retrieve the best estimator\n",
    "best_regressor = random_search.best_estimator_\n",
    "\n",
    "# Output the best parameters\n",
    "print(\"Best Parameters found by RandomizedSearchCV:\", random_search.best_params_)\n",
    "\n",
    "# You can now use best_regressor to make predictions or evaluate further\n"
   ],
   "id": "b95a3f8b5f222c74",
   "outputs": [
    {
     "name": "stdout",
     "output_type": "stream",
     "text": [
      "Fitting 3 folds for each of 2 candidates, totalling 6 fits\n",
      "Best Parameters found by RandomizedSearchCV: {'max_depth': 30, 'max_features': 1.0, 'min_samples_leaf': 2, 'min_samples_split': 2, 'n_estimators': 257}\n"
     ]
    }
   ],
   "execution_count": 389
  },
  {
   "metadata": {
    "ExecuteTime": {
     "end_time": "2024-08-22T13:33:54.126025Z",
     "start_time": "2024-08-22T13:33:54.109256Z"
    }
   },
   "cell_type": "code",
   "source": "best_regressor.score(x_test,y_test)",
   "id": "2e29d088eb87a2f2",
   "outputs": [
    {
     "data": {
      "text/plain": [
       "0.8206497841428034"
      ]
     },
     "execution_count": 390,
     "metadata": {},
     "output_type": "execute_result"
    }
   ],
   "execution_count": 390
  },
  {
   "metadata": {
    "ExecuteTime": {
     "end_time": "2024-08-22T13:33:54.176399Z",
     "start_time": "2024-08-22T13:33:54.158673Z"
    }
   },
   "cell_type": "code",
   "source": [
    "y_pred = best_regressor.predict(x_test)\n",
    "\n",
    "print(f'R2: {r2_score(y_test, y_pred)}')\n",
    "print(f'MAE: {mean_absolute_error(y_test, y_pred)}')\n",
    "print(f'MSE: {mean_squared_error(y_test, y_pred)}')\n",
    "print(f'RISE: {math.sqrt(mean_squared_error(y_test, y_pred))}')\n",
    "\n"
   ],
   "id": "b5c03f61df48f84f",
   "outputs": [
    {
     "name": "stdout",
     "output_type": "stream",
     "text": [
      "R2: 0.8206497841428034\n",
      "MAE: 66.34452789558611\n",
      "MSE: 6942.412860257938\n",
      "RISE: 83.32114293657965\n"
     ]
    }
   ],
   "execution_count": 391
  },
  {
   "metadata": {
    "ExecuteTime": {
     "end_time": "2024-08-22T13:33:54.320753Z",
     "start_time": "2024-08-22T13:33:54.202695Z"
    }
   },
   "cell_type": "code",
   "source": [
    "import matplotlib.pyplot as plt\n",
    "\n",
    "plt.scatter(y_test, y_pred)\n",
    "plt.xlabel('Actual Flight price')\n",
    "plt.ylabel('Predicted Flight Price')\n",
    "plt.title('Prediction vs Actual Flight Price')"
   ],
   "id": "bc5659c27068c0a1",
   "outputs": [
    {
     "data": {
      "text/plain": [
       "Text(0.5, 1.0, 'Prediction vs Actual Flight Price')"
      ]
     },
     "execution_count": 392,
     "metadata": {},
     "output_type": "execute_result"
    },
    {
     "data": {
      "text/plain": [
       "<Figure size 640x480 with 1 Axes>"
      ],
      "image/png": "[encoded data removed]"
     },
     "metadata": {},
     "output_type": "display_data"
    }
   ],
   "execution_count": 392
  },
  {
   "metadata": {
    "ExecuteTime": {
     "end_time": "2024-08-22T13:33:54.375034Z",
     "start_time": "2024-08-22T13:33:54.356664Z"
    }
   },
   "cell_type": "code",
   "source": "best_regressor.predict(x_test)",
   "id": "3c15b05f007a01ed",
   "outputs": [
    {
     "data": {
      "text/plain": [
       "array([-245.55943226, -211.31653989,  274.80527143,  -46.56687838,\n",
       "        154.53325313,   95.86972842,  265.76953869,  -49.90933331,\n",
       "        -79.85272736, -233.54125385, -119.46627972, -190.3139203 ,\n",
       "         71.23437677,  -28.34900145,    7.36841998,  122.64338747,\n",
       "        -90.81122584,  -84.29909608,   12.94598597,  270.36427782,\n",
       "       -169.84860461,  142.43472702,   80.53601113,   82.50317939,\n",
       "        204.04456208,   31.28650415,  -24.79385957,  246.72819375,\n",
       "         33.38454367,  -97.26688204,  -59.98513448,  -16.53423555,\n",
       "        -32.06105348, -102.4746057 ,  112.85805685,  -63.21137392,\n",
       "       -170.58180138,  248.34045643,   55.48565473,  110.69305948,\n",
       "       -156.3198557 ,   51.36138864, -144.08496377,  -61.37100961,\n",
       "        -15.71355631,   40.63275587, -259.85625729,   77.92025522,\n",
       "         71.68302992, -115.00344127,   -0.55933331,  -19.60113515,\n",
       "        -46.30698476, -355.20338547,  175.00020199,  256.38261971,\n",
       "         44.91867762,  -85.09615472,  -40.83902177,  -84.17714746,\n",
       "        152.4400102 ,  -18.08950685,  151.92172472, -186.61737167,\n",
       "        -39.31331561,    4.4650657 , -132.62166507, -306.51664041,\n",
       "         27.39830438,   18.81478771,   39.56785135,  120.5047578 ,\n",
       "        115.73422168, -129.10285056,  101.63392834,  -15.87126277,\n",
       "       -275.33075284,  145.77226175,  -81.29742488,  -16.73362502,\n",
       "       -263.69613837,   54.98830635, -140.99585001,  373.23082596,\n",
       "       -111.92050744,   37.00639189,  -21.01762376,  -98.27223396,\n",
       "       -235.39060155,   41.05000433,  161.21316408,  -20.77973014,\n",
       "         64.73039418, -157.7359447 ,   93.33324271,   16.84688318,\n",
       "         -3.18222865,   98.99711674, -103.82428952, -161.49554483,\n",
       "         45.75559826, -153.8811386 ,   -0.76381799,  298.45709978,\n",
       "        -64.95386375,  152.43848421,   91.26953964,  -42.35775506,\n",
       "       -126.66107527,   63.23678789,   13.70887553,   80.6588018 ,\n",
       "       -158.53849726,   35.40526294,   37.26718934, -280.35612009,\n",
       "       -122.44514482,  -51.52111179, -126.82377456,  -63.99912837,\n",
       "        131.33683753,  178.83303302, -147.30627752,  -11.7281094 ,\n",
       "        262.70344381,  133.3870167 ,   86.66645286,   50.33068176,\n",
       "         92.55834518,  -25.31005266,  215.83105759, -117.19127066,\n",
       "         32.71655225,  -85.9150699 ,  -28.68499429,  285.9105452 ,\n",
       "       -129.95239953, -130.3206444 ,   15.57575521,  111.85531558,\n",
       "        195.43509939, -124.82219616,   44.75194053, -213.89197313,\n",
       "        202.38922313, -147.24332211,  163.62678084,  167.27137723,\n",
       "        107.5475561 ,  -21.3689321 ,  -78.78934097,   86.80437496,\n",
       "       -260.16592578,  132.14857915,  -24.4343567 ,  123.18616424,\n",
       "        140.85338512,  222.55595611,  -69.92728439,  -33.23311039,\n",
       "        -60.70269767, -246.34956439,  202.80515175,  156.36294983,\n",
       "        293.75466151,  126.71546673,  -78.03654243,   91.87900061,\n",
       "        277.07288228,  -10.13375285,   18.24533209, -247.97281932,\n",
       "          0.4667268 ,  -44.9251979 ,  179.61543748,    2.08071815,\n",
       "       -177.95208239,  -80.92232036,   94.54148117,   43.92648362,\n",
       "         76.66983764,  -85.35160208,  -51.66096623,  -41.50929248,\n",
       "          7.3276051 , -166.74983568, -173.62334633, -130.66974064,\n",
       "        -73.16413448,  160.84405915, -264.78942746, -135.34704067,\n",
       "        -68.40071226,  330.30398728,   86.9021218 , -201.58745052,\n",
       "         88.70438726, -156.89080787,  137.93193604,   62.45729764])"
      ]
     },
     "execution_count": 393,
     "metadata": {},
     "output_type": "execute_result"
    }
   ],
   "execution_count": 393
  }
 ],
 "metadata": {
  "kernelspec": {
   "display_name": "Python 3",
   "language": "python",
   "name": "python3"
  },
  "language_info": {
   "codemirror_mode": {
    "name": "ipython",
    "version": 2
   },
   "file_extension": ".py",
   "mimetype": "text/x-python",
   "name": "python",
   "nbconvert_exporter": "python",
   "pygments_lexer": "ipython2",
   "version": "2.7.6"
  }
 },
 "nbformat": 4,
 "nbformat_minor": 5
}
